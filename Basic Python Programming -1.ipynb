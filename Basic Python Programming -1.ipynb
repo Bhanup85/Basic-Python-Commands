{
 "cells": [
  {
   "cell_type": "markdown",
   "id": "a3c42005",
   "metadata": {},
   "source": [
    "# 1- PYTHON INTRODUCTION - (TASK - 1)\n",
    "I hope everybody install Anconda software which i share to you guys right\n",
    "Just wanted to know how many of know any programming language\n",
    "If you dont know any programming language then you are the best person to learn PYTHON\n",
    "python is very easy language\n",
    "what is python? Ans - python is highly recommanded programming language & object oriented language\n",
    "Father of python - Guido van Rosam\n",
    "Python came from fun tv show called ''complete monty python's flying circus'' - broadcasted in BBC channel\n",
    "Python borrowed all concept from c,c++,java,unix ( so python is everything) thats why python very very powerfull tool\n",
    "Python developed in NRI - (Netherland) & lot of people say that python is new language\n",
    "Java released on 1995. python was released on 1989 officialy released on (feb 20th 1991)\n",
    "It has a large and comprehensive standard library."
   ]
  },
  {
   "cell_type": "code",
   "execution_count": 1,
   "id": "4c7f4ebe",
   "metadata": {},
   "outputs": [
    {
     "data": {
      "text/plain": [
       "2"
      ]
     },
     "execution_count": 1,
     "metadata": {},
     "output_type": "execute_result"
    }
   ],
   "source": [
    "#int \n",
    "x=2\n",
    "x"
   ]
  },
  {
   "cell_type": "markdown",
   "id": "f39ba390",
   "metadata": {},
   "source": [
    "Now python is very popular based on software industry requirment because everybody wants to write very less code/concile code\n",
    "Current market trend is - Machine learing, Artificial intelligence, data science & Iot(Internet of things)\n",
    "which companies are used python - google,nasa,uber,netfliz,reddit,facebook, everywhere python used everywhere\n",
    "python code can understand everybody & python is dynamic programming language\n",
    "In python everything done by PVM (python virtual machine)\n",
    "you can access python in any platform independent- windows, linux, mac one code can run in all the 4 platform & no need to write separate programe for every platform. Once you write code you can run in platform\n",
    "Python is dynamically programming language (not required to declared data types)\n",
    "Python is freeware and open source. Moving from one platform to other platform without changeing any code\n",
    "Python contains rich libray - numpy,pandas so python is the best application for datascience\n",
    "which scenario python can't be used - ( python can not perform in mobile application like android )\n",
    "Flavours of python - cpython(C programming),jpython(java programming),Iron python(c#.net),Ruby python(Ruby based application programme),Anaconda python(Bigdata,datascience)\n",
    "Python 1.0 introduce in jan 1994 -- Noorganization is working now\n",
    "Python 2.0 introduce in oct 2000 -- Noorganization is working now\n",
    "Python 3.0 introduce in Dec 2008, 2016, 2017,---- latest version - 3.6, 3.6, 3.7, 3.8, 3.9, 3.10"
   ]
  },
  {
   "cell_type": "code",
   "execution_count": 2,
   "id": "3085ebc2",
   "metadata": {},
   "outputs": [
    {
     "data": {
      "text/plain": [
       "int"
      ]
     },
     "execution_count": 2,
     "metadata": {},
     "output_type": "execute_result"
    }
   ],
   "source": [
    "x=3\n",
    "type(x)"
   ]
  },
  {
   "cell_type": "markdown",
   "id": "197bc28a",
   "metadata": {},
   "source": [
    "# 2- Getting started with Python Language\n",
    "## Python 3.x\n",
    "### Version Release Date --->\n",
    "3.10 2021-10-04 3.9 2020-10-05 3.8 2020-04-29 3.7 2018-06-27 3.6 2016-12-23 3.5 2015-09-13 3.4 2014-03-17 3.3 2012-09-29 3.2 2011-02-20 3.1 2009-06-26 3.0 2008-12-03\n",
    "\n",
    "## Python 2.x\n",
    "### Version Release Date\n",
    "2.7 2010-07-03 2.6 2008-10-02 2.5 2006-09-19 2.4 2004-11-30 2.3 2003-07-29 2.2 2001-12-21 2.1 2001-04-15 2.0 2000-10-16"
   ]
  },
  {
   "cell_type": "markdown",
   "id": "66aa05f4",
   "metadata": {},
   "source": [
    "# Two major versions of Python are currently in active use:\n",
    "Python 3.x is the current version and is under active development.\n",
    "Python 2.x is the legacy version and will receive only security updates until 2020. No new features will be implemented.Note that many projects still use Python 2, although migrating to Python 3 is getting easier.\n",
    "If you want to learn python only then better you can use software called - python.org (below is url) https://www.python.org/downloads/\n",
    "For data science the best application for datascience models using python is called ANACONDA"
   ]
  },
  {
   "cell_type": "code",
   "execution_count": 3,
   "id": "392a5fb7",
   "metadata": {},
   "outputs": [],
   "source": [
    "import sys\n",
    "sys.version"
   ]
  },
  {
   "cell_type": "markdown",
   "id": "0819acf4",
   "metadata": {},
   "source": [
    "# 3-Creating variables and assigning values\n",
    "To create a variable in Python, all you need to do is specify the variable name, and then assign a value to it.\n",
    "\n",
    "= Python uses = to assign values to variables There's no need to declare a variable in advance (or to assign a data type to it) Assigning a value to a variable itself declares and initializes the variable with that value. There's no way to declare a variable without assigning it an initial value."
   ]
  },
  {
   "cell_type": "code",
   "execution_count": 4,
   "id": "5de62bd7",
   "metadata": {},
   "outputs": [],
   "source": [
    "a=5\n",
    "type(a)"
   ]
  },
  {
   "cell_type": "code",
   "execution_count": null,
   "id": "ef8efa4c",
   "metadata": {},
   "outputs": [],
   "source": []
  },
  {
   "cell_type": "code",
   "execution_count": 5,
   "id": "99e84837",
   "metadata": {},
   "outputs": [],
   "source": [
    "6=a\n"
   ]
  },
  {
   "cell_type": "code",
   "execution_count": null,
   "id": "76a35a46",
   "metadata": {},
   "outputs": [],
   "source": [
    "x=2\n",
    "x"
   ]
  },
  {
   "cell_type": "code",
   "execution_count": null,
   "id": "8e66d080",
   "metadata": {},
   "outputs": [],
   "source": [
    "x@=3\n",
    "x@"
   ]
  },
  {
   "cell_type": "code",
   "execution_count": null,
   "id": "5503f885",
   "metadata": {},
   "outputs": [],
   "source": [
    "#integer\n",
    "a=2\n",
    "type(a)"
   ]
  },
  {
   "cell_type": "code",
   "execution_count": null,
   "id": "2435f472",
   "metadata": {},
   "outputs": [],
   "source": [
    "# Integer \n",
    "b = 9223372036\n",
    "print(b)"
   ]
  },
  {
   "cell_type": "code",
   "execution_count": null,
   "id": "0b1fa71c",
   "metadata": {},
   "outputs": [],
   "source": [
    "#floating point\n",
    "pi=3.14\n",
    "pi"
   ]
  },
  {
   "cell_type": "code",
   "execution_count": null,
   "id": "47a7ca47",
   "metadata": {},
   "outputs": [],
   "source": [
    "type(pi)"
   ]
  },
  {
   "cell_type": "code",
   "execution_count": null,
   "id": "c6a2c5cf",
   "metadata": {},
   "outputs": [],
   "source": [
    "#string\n",
    "a='b'\n",
    "print(a)\n",
    "type(a)"
   ]
  },
  {
   "cell_type": "code",
   "execution_count": null,
   "id": "5e3e130e",
   "metadata": {},
   "outputs": [],
   "source": [
    "a=\"python\"\n",
    "a"
   ]
  },
  {
   "cell_type": "code",
   "execution_count": null,
   "id": "3b0497f6",
   "metadata": {},
   "outputs": [],
   "source": [
    "type(a)"
   ]
  },
  {
   "cell_type": "code",
   "execution_count": null,
   "id": "5a34f30a",
   "metadata": {},
   "outputs": [],
   "source": [
    "a='''python is a dynamically\n",
    "typed language'''\n",
    "print(a)\n",
    "type(a)"
   ]
  },
  {
   "cell_type": "code",
   "execution_count": null,
   "id": "57d2930d",
   "metadata": {},
   "outputs": [],
   "source": [
    "#boolean\n",
    "a=True\n",
    "a\n"
   ]
  },
  {
   "cell_type": "code",
   "execution_count": null,
   "id": "ac3e05cb",
   "metadata": {},
   "outputs": [],
   "source": [
    "type(a)"
   ]
  },
  {
   "cell_type": "code",
   "execution_count": null,
   "id": "88ebffb7",
   "metadata": {},
   "outputs": [],
   "source": [
    "#null or None type\n",
    "x=None\n",
    "print(x)"
   ]
  },
  {
   "cell_type": "code",
   "execution_count": null,
   "id": "11b99835",
   "metadata": {},
   "outputs": [],
   "source": [
    "type(x)"
   ]
  },
  {
   "cell_type": "code",
   "execution_count": null,
   "id": "38a7501b",
   "metadata": {},
   "outputs": [],
   "source": [
    "#indentifiers\n"
   ]
  },
  {
   "cell_type": "code",
   "execution_count": null,
   "id": "a36cadac",
   "metadata": {},
   "outputs": [],
   "source": [
    "ABC=50\n",
    "ABC"
   ]
  },
  {
   "cell_type": "code",
   "execution_count": null,
   "id": "73943e88",
   "metadata": {},
   "outputs": [],
   "source": [
    "ABCD=70\n",
    "ABCD"
   ]
  },
  {
   "cell_type": "code",
   "execution_count": null,
   "id": "6d930fdd",
   "metadata": {},
   "outputs": [],
   "source": [
    "NIT=1500\n",
    "NIT"
   ]
  },
  {
   "cell_type": "code",
   "execution_count": null,
   "id": "f0bf0399",
   "metadata": {},
   "outputs": [],
   "source": [
    "NIT=15000\n",
    "nit"
   ]
  },
  {
   "cell_type": "code",
   "execution_count": 6,
   "id": "3515ee68",
   "metadata": {},
   "outputs": [],
   "source": [
    "nIT=50\n",
    "jav"
   ]
  },
  {
   "cell_type": "markdown",
   "id": "e6f5b901",
   "metadata": {},
   "source": [
    "# 4-PYTHON ( IDENTIFIER / VARIBALE / OBJECT ) --\n",
    "There is a person whose name - Multiple names are to identify person.so finally the Name which can be used for identification purpose.\n",
    "Name in the python programme is called IDENTIFIER (x = 10) (X - identifier)\n",
    "*'''\n",
    "\n",
    "Nameing ceremoney we have some rules to naming a child . e.g - Gods name,Ancestor Name,have to do some R & D. you cannot keep the child name as - Cat or dog right.. so parent have to follow some rule and keep their child naming ceremony.\n",
    "*Rules to define Python Identifier & we will check those rules ==\n",
    "\n",
    "<1 Alphabet (uppercae & lowercase) <2> Digits (0-9) # should not stat with digit <3> underscore(_)"
   ]
  },
  {
   "cell_type": "code",
   "execution_count": null,
   "id": "b82eb318",
   "metadata": {},
   "outputs": [],
   "source": [
    "cash123=10\n",
    "cash123"
   ]
  },
  {
   "cell_type": "code",
   "execution_count": null,
   "id": "89fe31ec",
   "metadata": {},
   "outputs": [],
   "source": [
    "123cash=10\n",
    "123cash"
   ]
  },
  {
   "cell_type": "code",
   "execution_count": null,
   "id": "91d598aa",
   "metadata": {},
   "outputs": [],
   "source": [
    "ca$h=10\n",
    "ca$h"
   ]
  },
  {
   "cell_type": "code",
   "execution_count": null,
   "id": "5b0cec8c",
   "metadata": {},
   "outputs": [],
   "source": [
    "ca*h=20\n",
    "ca*h"
   ]
  },
  {
   "cell_type": "code",
   "execution_count": null,
   "id": "62c308ad",
   "metadata": {},
   "outputs": [],
   "source": [
    "CASH=20\n",
    "cash #case sensitive"
   ]
  },
  {
   "cell_type": "code",
   "execution_count": null,
   "id": "45934da0",
   "metadata": {},
   "outputs": [],
   "source": [
    "CASH"
   ]
  },
  {
   "cell_type": "code",
   "execution_count": null,
   "id": "e3a3023a",
   "metadata": {},
   "outputs": [],
   "source": [
    "CASH1=10\n",
    "CASH1"
   ]
  },
  {
   "cell_type": "code",
   "execution_count": null,
   "id": "50166e65",
   "metadata": {},
   "outputs": [],
   "source": [
    "123TOTAL=30\n",
    "123TOTAL"
   ]
  },
  {
   "cell_type": "code",
   "execution_count": null,
   "id": "6ef3e054",
   "metadata": {},
   "outputs": [],
   "source": [
    "Abcde=20\n",
    "type(Abcd)"
   ]
  },
  {
   "cell_type": "code",
   "execution_count": null,
   "id": "3ecef462",
   "metadata": {},
   "outputs": [],
   "source": [
    "new=30\n",
    "New"
   ]
  },
  {
   "cell_type": "code",
   "execution_count": null,
   "id": "0c79c9c5",
   "metadata": {},
   "outputs": [],
   "source": [
    "Total5=15\n",
    "Total\n"
   ]
  },
  {
   "cell_type": "code",
   "execution_count": null,
   "id": "0c8624bc",
   "metadata": {},
   "outputs": [],
   "source": [
    "DEF=4\n",
    "DEF\n"
   ]
  },
  {
   "cell_type": "code",
   "execution_count": null,
   "id": "9032e020",
   "metadata": {},
   "outputs": [],
   "source": [
    "def=4.6 #def is a keyword\n",
    "def"
   ]
  },
  {
   "cell_type": "code",
   "execution_count": null,
   "id": "20fa894d",
   "metadata": {},
   "outputs": [],
   "source": [
    "DEF=4\n",
    "DEF"
   ]
  },
  {
   "cell_type": "code",
   "execution_count": null,
   "id": "a53cf621",
   "metadata": {},
   "outputs": [],
   "source": [
    "if=700\n",
    "if"
   ]
  },
  {
   "cell_type": "code",
   "execution_count": null,
   "id": "081b80d3",
   "metadata": {},
   "outputs": [],
   "source": [
    "DEF=5.6\n",
    "DEF"
   ]
  },
  {
   "cell_type": "code",
   "execution_count": null,
   "id": "de7b2d45",
   "metadata": {},
   "outputs": [],
   "source": [
    "def=7\n",
    "def"
   ]
  },
  {
   "cell_type": "code",
   "execution_count": null,
   "id": "e3d57c83",
   "metadata": {},
   "outputs": [],
   "source": [
    "#if = 10   # if & def are keywords\n",
    "#DEF = 20 \n",
    "for = 50\n",
    "for"
   ]
  },
  {
   "cell_type": "code",
   "execution_count": null,
   "id": "7ba9a4cb",
   "metadata": {},
   "outputs": [],
   "source": [
    "FOR=50\n",
    "FOR"
   ]
  },
  {
   "cell_type": "code",
   "execution_count": null,
   "id": "d9ffdcdb",
   "metadata": {},
   "outputs": [],
   "source": [
    "IFFFFFFFFFFFFFFFFFFFFFFFFFFFFFFFFFFFFFFFFFG=43\n",
    "IFFFFFFFFFFFFFFFFFFFFFFFFFFFFFFFFFFFFFFFFFG"
   ]
  },
  {
   "cell_type": "code",
   "execution_count": null,
   "id": "5a2ae521",
   "metadata": {},
   "outputs": [],
   "source": [
    "_abc_def_gef=20 #only one special character _ character\n",
    "_abc_def_gef"
   ]
  },
  {
   "cell_type": "markdown",
   "id": "fb776872",
   "metadata": {},
   "source": [
    "# Q & A for valid / Invalid identifier - 1>123Abc 2>Abc123 3>ml2ai 4>_abc_def_gef 5>def 6>else 7>ELSE\n",
    "\n",
    "----- RULES OF PYTHON IDENTIFIER ------ 1> A to Z, a to z, 0 - 9 2> Doesnot starts with digit 3> Case sensitive 4> Reserved words or keywords cannot be a identifier 5> Identifier cannot have a lenght limit 6> _ only allowed 7> NO special character is allowed\n",
    "\n",
    "========================= WE LEARNT ABOUT PYTHON IDENTIFIER IN DETAILS ============================"
   ]
  },
  {
   "cell_type": "markdown",
   "id": "1095033b",
   "metadata": {},
   "source": [
    "# PYTHON RESERVED WORDS -\n",
    "if a kid going to school what he/she will learn A,B,C - - - -Z then she will learn A - APPLE, B -BALL, C - CAT. (APPLE,BALL,CAT - Reserved word in english)\n",
    "Apple is reserved for the fruit, Ball ==> play, Cat ==> Animal // (Dictionary uncountable reserved words is there).. This type of words are called Reserved word\n",
    "In any programming language there is a reserved word are there we gonna learn only python Reserved\n",
    "\n",
    "python reserved are => (35 RESERVED WORDS) If you learn 35 reserved words then python is complete\n",
    "\n",
    "all reserved words have some meaning & functionality\n",
    "Learning python is nothing but learing all this functionality"
   ]
  },
  {
   "cell_type": "markdown",
   "id": "268d823c",
   "metadata": {},
   "source": [
    "# **35 RESERVED WORDS---\n",
    "\n",
    "True, False, None ==> Represent Boolean data types\n",
    "and, or, not, is ==> Represent the operators\n",
    "if, else, elif ==> Represent the statement (# python switch,do..while statament is not available)\n",
    "while, for, break, continue, return, in, yield ==> Represent the loop concept\n",
    "try, except, finally, raise, assert ==> Represent for functionallity\n",
    "import,from,as,class,def,pass,global,nonlocal,lambda,del,with==>Represent the class,method,function\n",
    "*NOTES -- 35 RESERVED WORDS ARE (ALPHABET) // *EXCEPT (True,False,None)"
   ]
  },
  {
   "cell_type": "code",
   "execution_count": null,
   "id": "1a73a0fa",
   "metadata": {},
   "outputs": [],
   "source": [
    "a=True\n",
    "a"
   ]
  },
  {
   "cell_type": "code",
   "execution_count": null,
   "id": "da4f16a9",
   "metadata": {},
   "outputs": [],
   "source": [
    "True=a\n",
    "True"
   ]
  },
  {
   "cell_type": "code",
   "execution_count": null,
   "id": "9bf29a3b",
   "metadata": {},
   "outputs": [],
   "source": [
    "a1=true\n",
    "a1"
   ]
  },
  {
   "cell_type": "code",
   "execution_count": null,
   "id": "50d78b74",
   "metadata": {},
   "outputs": [],
   "source": [
    "b=None\n",
    "b"
   ]
  },
  {
   "cell_type": "code",
   "execution_count": null,
   "id": "68adfafc",
   "metadata": {},
   "outputs": [],
   "source": [
    "b=none\n",
    "b"
   ]
  },
  {
   "cell_type": "code",
   "execution_count": null,
   "id": "69f74461",
   "metadata": {},
   "outputs": [],
   "source": [
    "c=False\n",
    "c"
   ]
  },
  {
   "cell_type": "code",
   "execution_count": null,
   "id": "02f01327",
   "metadata": {},
   "outputs": [],
   "source": [
    "import pandas as pd\n",
    "a=pd.DataFrame(keyword.kwlist)\n",
    "a"
   ]
  },
  {
   "cell_type": "markdown",
   "id": "0c50eb9d",
   "metadata": {},
   "source": [
    "# PYTHON DATA TYPES // (14) - INBUILD DATA TYPES -\n",
    "1>int 2>float 3>complex 4>bool 5>str 6>bytes 7>bytearray DATA STRUCTURE ---> 8>range 9>list 10>tuple 11>set 12>frozenset 13>dict 14>None\n",
    "\n",
    "python provides some inbuild function like -- <1> print() <2> type() <3> id()\n",
    "\n",
    "int,float,complex,boolen is not represent object # Tricky question\n",
    "\n",
    "except these 4 everythig object # Tricky question\n",
    "NOTE - [**In python all 14 data types are object only]Thats why we called as python is object oriented program"
   ]
  },
  {
   "cell_type": "code",
   "execution_count": null,
   "id": "fbc0106d",
   "metadata": {},
   "outputs": [],
   "source": [
    "a=10\n",
    "print(a)\n",
    "id(a)"
   ]
  },
  {
   "cell_type": "code",
   "execution_count": null,
   "id": "8a262c22",
   "metadata": {},
   "outputs": [],
   "source": [
    "type(a)"
   ]
  },
  {
   "cell_type": "code",
   "execution_count": null,
   "id": "cfe1d590",
   "metadata": {},
   "outputs": [],
   "source": [
    "b=10\n",
    "id(b)"
   ]
  },
  {
   "cell_type": "code",
   "execution_count": null,
   "id": "87697673",
   "metadata": {},
   "outputs": [],
   "source": [
    "a=10\n",
    "b=10\n",
    "type(a)"
   ]
  },
  {
   "cell_type": "code",
   "execution_count": null,
   "id": "6860c9c1",
   "metadata": {
    "scrolled": true
   },
   "outputs": [],
   "source": [
    "id(a)"
   ]
  },
  {
   "cell_type": "code",
   "execution_count": null,
   "id": "6b84ff1d",
   "metadata": {},
   "outputs": [],
   "source": [
    "id(b)"
   ]
  },
  {
   "cell_type": "code",
   "execution_count": null,
   "id": "b8275371",
   "metadata": {},
   "outputs": [],
   "source": [
    "c=20\n",
    "id(c)"
   ]
  },
  {
   "cell_type": "markdown",
   "id": "f5fe2cba",
   "metadata": {},
   "source": [
    "# int datatypes -\n",
    "INT Datatypes - The No.without decimal point are called as INTEGRAL DATATYPES *int datatype how many ways represent values in 3ways -\n",
    "2> Binary form --- (Base-2) -- (0,1) 3> Octal form --- (Base-8) -- (0,7)"
   ]
  },
  {
   "cell_type": "code",
   "execution_count": null,
   "id": "941673aa",
   "metadata": {},
   "outputs": [],
   "source": [
    "a1=4809\n",
    "a1\n",
    "type(a1)"
   ]
  },
  {
   "cell_type": "code",
   "execution_count": null,
   "id": "338425fb",
   "metadata": {},
   "outputs": [],
   "source": [
    "#Binary format\n",
    "b=7\n",
    "bin(b)"
   ]
  },
  {
   "cell_type": "code",
   "execution_count": null,
   "id": "2fb28565",
   "metadata": {},
   "outputs": [],
   "source": [
    "b=0b101\n",
    "b"
   ]
  },
  {
   "cell_type": "code",
   "execution_count": null,
   "id": "e58b1fdd",
   "metadata": {},
   "outputs": [],
   "source": [
    "b1=111\n",
    "b1"
   ]
  },
  {
   "cell_type": "code",
   "execution_count": null,
   "id": "4b75199f",
   "metadata": {},
   "outputs": [],
   "source": [
    "c=0b1111\n",
    "c"
   ]
  },
  {
   "cell_type": "code",
   "execution_count": null,
   "id": "b0c8c3f9",
   "metadata": {},
   "outputs": [],
   "source": [
    "b3=ob222\n",
    "b3"
   ]
  },
  {
   "cell_type": "code",
   "execution_count": null,
   "id": "7aa6d4ba",
   "metadata": {},
   "outputs": [],
   "source": [
    "b=0b11\n",
    "b"
   ]
  },
  {
   "cell_type": "code",
   "execution_count": null,
   "id": "10ed9168",
   "metadata": {},
   "outputs": [],
   "source": [
    "#octal decimal\n",
    "a=23\n",
    "oct(a)"
   ]
  },
  {
   "cell_type": "code",
   "execution_count": null,
   "id": "a1901542",
   "metadata": {},
   "outputs": [],
   "source": [
    "b1=0o111\n",
    "b1"
   ]
  },
  {
   "cell_type": "code",
   "execution_count": null,
   "id": "79a994b8",
   "metadata": {},
   "outputs": [],
   "source": [
    "a=100\n",
    "b=0b10\n",
    "c=0o100\n",
    "a\n",
    "b\n",
    "c\n"
   ]
  },
  {
   "cell_type": "code",
   "execution_count": null,
   "id": "22ee5a05",
   "metadata": {},
   "outputs": [],
   "source": [
    "c1=0o33\n",
    "c1\n"
   ]
  },
  {
   "cell_type": "code",
   "execution_count": null,
   "id": "4318027d",
   "metadata": {},
   "outputs": [],
   "source": [
    "b"
   ]
  },
  {
   "cell_type": "code",
   "execution_count": null,
   "id": "e9425d88",
   "metadata": {},
   "outputs": [],
   "source": [
    "c"
   ]
  },
  {
   "cell_type": "code",
   "execution_count": null,
   "id": "8de56065",
   "metadata": {},
   "outputs": [],
   "source": [
    "A=78\n",
    "type(A)"
   ]
  },
  {
   "cell_type": "markdown",
   "id": "0099588a",
   "metadata": {},
   "source": [
    "# float datatypes -\n",
    "employee sal - 5676.76diesel price - 67.25\n",
    "\n",
    "These values are not integral value this is called as decimal value\n",
    "Floating datatype you cannot declare Binary,Octal & Hexadecimal because python enterpretur not accept that\n",
    "In our schools we learn about EXPONTIAL form -(1.2e3) this you can find in float datatypes & only letter 'e' can allowed"
   ]
  },
  {
   "cell_type": "code",
   "execution_count": null,
   "id": "6bcd569c",
   "metadata": {},
   "outputs": [],
   "source": [
    " b=6.7\n",
    "type(b)"
   ]
  },
  {
   "cell_type": "code",
   "execution_count": null,
   "id": "0748045e",
   "metadata": {},
   "outputs": [],
   "source": [
    "c=0o11.6\n",
    "c"
   ]
  },
  {
   "cell_type": "code",
   "execution_count": null,
   "id": "8d57713d",
   "metadata": {},
   "outputs": [],
   "source": [
    "b1=0o11.22\n",
    "print(type(b))\n",
    "type(b1)"
   ]
  },
  {
   "cell_type": "code",
   "execution_count": null,
   "id": "71a1b540",
   "metadata": {},
   "outputs": [],
   "source": [
    "d=0o4567.67\n",
    "d"
   ]
  },
  {
   "cell_type": "code",
   "execution_count": null,
   "id": "903900d5",
   "metadata": {},
   "outputs": [],
   "source": [
    "e=0b4567.89\n",
    "e"
   ]
  },
  {
   "cell_type": "code",
   "execution_count": null,
   "id": "a551953b",
   "metadata": {},
   "outputs": [],
   "source": [
    "f1=1E1\n",
    "f1"
   ]
  },
  {
   "cell_type": "code",
   "execution_count": null,
   "id": "cf1e3873",
   "metadata": {},
   "outputs": [],
   "source": [
    "type(f1)"
   ]
  },
  {
   "cell_type": "code",
   "execution_count": null,
   "id": "314c4ade",
   "metadata": {},
   "outputs": [],
   "source": [
    "#f = 1e3 # only 'e' letter is allowed\n",
    "g=2.4E3 # except 'E' you can't execute any programme\n",
    "g"
   ]
  },
  {
   "cell_type": "code",
   "execution_count": null,
   "id": "bfa7fbac",
   "metadata": {},
   "outputs": [],
   "source": [
    "f=1e4\n",
    "f"
   ]
  },
  {
   "cell_type": "code",
   "execution_count": null,
   "id": "a5abb226",
   "metadata": {},
   "outputs": [],
   "source": [
    "type(g)"
   ]
  },
  {
   "cell_type": "markdown",
   "id": "de5ef740",
   "metadata": {},
   "source": [
    "# complex datatypes -\n",
    "Complex datatype format are:-(a+bj) (a--Real part/b--Imaginary part/j^2=-1)\n",
    "j is the compulsory value & there is no other value accepted in complex type\n",
    "j^2 = -1\n",
    "Value of j is (j square is equal to -1) (j =(square root of -1) is equal to (j^2 = -1) pure mathemetics so if you want to develop mathmetic application or scientific application then python is the best option\n",
    "Real type any type base can be accepted but imaginary part allow only integer"
   ]
  },
  {
   "cell_type": "code",
   "execution_count": null,
   "id": "680410bf",
   "metadata": {},
   "outputs": [],
   "source": [
    "X=30+40j\n",
    "X"
   ]
  },
  {
   "cell_type": "code",
   "execution_count": null,
   "id": "9b8587ac",
   "metadata": {},
   "outputs": [],
   "source": [
    "type(X)"
   ]
  },
  {
   "cell_type": "code",
   "execution_count": null,
   "id": "f639d748",
   "metadata": {},
   "outputs": [],
   "source": [
    "y=10+20j\n",
    "z=30+25j\n",
    "y+z"
   ]
  },
  {
   "cell_type": "code",
   "execution_count": null,
   "id": "6b31fe95",
   "metadata": {},
   "outputs": [],
   "source": [
    "y*z"
   ]
  },
  {
   "cell_type": "code",
   "execution_count": null,
   "id": "db205504",
   "metadata": {},
   "outputs": [],
   "source": [
    "y/z"
   ]
  },
  {
   "cell_type": "code",
   "execution_count": null,
   "id": "4cd20aeb",
   "metadata": {},
   "outputs": [],
   "source": [
    "c=15+0b111j\n",
    "c"
   ]
  },
  {
   "cell_type": "code",
   "execution_count": null,
   "id": "b1884cc4",
   "metadata": {},
   "outputs": [],
   "source": [
    "d=0b11+15j\n",
    "d"
   ]
  },
  {
   "cell_type": "code",
   "execution_count": null,
   "id": "82369654",
   "metadata": {},
   "outputs": [],
   "source": [
    "d2=0b111+15j\n",
    "d2"
   ]
  },
  {
   "cell_type": "code",
   "execution_count": null,
   "id": "94f1ac55",
   "metadata": {},
   "outputs": [],
   "source": [
    "a1=4+15a\n",
    "a1"
   ]
  },
  {
   "cell_type": "code",
   "execution_count": null,
   "id": "21719f73",
   "metadata": {},
   "outputs": [],
   "source": [
    "c1=20+30j\n",
    "d1=40+50j"
   ]
  },
  {
   "cell_type": "code",
   "execution_count": null,
   "id": "382d5122",
   "metadata": {},
   "outputs": [],
   "source": [
    "c1+d1\n"
   ]
  },
  {
   "cell_type": "code",
   "execution_count": null,
   "id": "b06749ae",
   "metadata": {},
   "outputs": [],
   "source": [
    "c1*d1"
   ]
  },
  {
   "cell_type": "code",
   "execution_count": null,
   "id": "fb4f787a",
   "metadata": {},
   "outputs": [],
   "source": [
    "c1-d1"
   ]
  },
  {
   "cell_type": "code",
   "execution_count": null,
   "id": "12e6ffba",
   "metadata": {},
   "outputs": [],
   "source": [
    "c1/d1\n"
   ]
  },
  {
   "cell_type": "code",
   "execution_count": null,
   "id": "2818a1db",
   "metadata": {},
   "outputs": [],
   "source": [
    "a=2+3j\n",
    "type(a)"
   ]
  },
  {
   "cell_type": "code",
   "execution_count": null,
   "id": "2342d632",
   "metadata": {},
   "outputs": [],
   "source": [
    "a1=25+30j\n",
    "a1.imag"
   ]
  },
  {
   "cell_type": "code",
   "execution_count": null,
   "id": "8c7ebedb",
   "metadata": {},
   "outputs": [],
   "source": [
    "a1.real"
   ]
  },
  {
   "cell_type": "code",
   "execution_count": null,
   "id": "227457c2",
   "metadata": {},
   "outputs": [],
   "source": [
    "bool data types\n"
   ]
  },
  {
   "cell_type": "code",
   "execution_count": null,
   "id": "ea39347b",
   "metadata": {},
   "outputs": [],
   "source": [
    "a = 10\n",
    "b = 20\n",
    "c = a>b\n",
    "c"
   ]
  },
  {
   "cell_type": "code",
   "execution_count": null,
   "id": "52453817",
   "metadata": {},
   "outputs": [],
   "source": [
    "type(c)"
   ]
  },
  {
   "cell_type": "code",
   "execution_count": null,
   "id": "63549da5",
   "metadata": {},
   "outputs": [],
   "source": [
    "True+True\n",
    "True+False\n",
    "True*True\n",
    "True/False\n",
    "False+False\n",
    "True-True\n",
    "True-False"
   ]
  },
  {
   "cell_type": "code",
   "execution_count": null,
   "id": "8694337a",
   "metadata": {},
   "outputs": [],
   "source": [
    "True+True"
   ]
  },
  {
   "cell_type": "code",
   "execution_count": null,
   "id": "df1d78de",
   "metadata": {},
   "outputs": [],
   "source": [
    "True/False"
   ]
  },
  {
   "cell_type": "code",
   "execution_count": null,
   "id": "e2f6b818",
   "metadata": {},
   "outputs": [],
   "source": [
    "pi=3.14\n",
    "pi\n",
    "type(pi)"
   ]
  },
  {
   "cell_type": "code",
   "execution_count": null,
   "id": "74cdc52b",
   "metadata": {},
   "outputs": [],
   "source": [
    "pi=3.17 #no constant are in python\n",
    "pi"
   ]
  },
  {
   "cell_type": "markdown",
   "id": "383c6ad9",
   "metadata": {},
   "source": [
    "# str datatypes -\n",
    "enclosed in '' (single quote) // \"\" (double quote)\n",
    "singa line we assined as '' // \"\"\n",
    "multiline we assigned as (\"' \"')\n",
    "single & double quotes are allowed only for single line\n",
    "triple quotes are allowed for multi comments & also you can declare triple quotes in single line as well(\"\"\"//\"\"\")/('''//''')"
   ]
  },
  {
   "cell_type": "code",
   "execution_count": null,
   "id": "d7d8175e",
   "metadata": {},
   "outputs": [],
   "source": [
    "naresh='good for data science'\n",
    "naresh"
   ]
  },
  {
   "cell_type": "code",
   "execution_count": null,
   "id": "6f6fd407",
   "metadata": {},
   "outputs": [],
   "source": [
    "naresh='''good for data science'''\n",
    "naresh"
   ]
  },
  {
   "cell_type": "code",
   "execution_count": null,
   "id": "9dc98c28",
   "metadata": {},
   "outputs": [],
   "source": [
    "type(naresh)"
   ]
  },
  {
   "cell_type": "code",
   "execution_count": null,
   "id": "92c1b021",
   "metadata": {},
   "outputs": [],
   "source": [
    "naresh2='''good for data science'''\n",
    "naresh2"
   ]
  },
  {
   "cell_type": "code",
   "execution_count": null,
   "id": "447e97ed",
   "metadata": {},
   "outputs": [],
   "source": [
    "type(naresh2)"
   ]
  },
  {
   "cell_type": "code",
   "execution_count": null,
   "id": "6ce09456",
   "metadata": {},
   "outputs": [],
   "source": [
    "e01=\"\"\"this a practice\n",
    "of task 2\"\"\"\n",
    "e01"
   ]
  },
  {
   "cell_type": "markdown",
   "id": "fac29e0e",
   "metadata": {},
   "source": [
    "# Type Conversions\n",
    "int()--bool()--complex--float()--str()"
   ]
  },
  {
   "cell_type": "markdown",
   "id": "681227dd",
   "metadata": {},
   "source": [
    "## int to other data types\n",
    "int(): - you can convert from other type to int type except complex "
   ]
  },
  {
   "cell_type": "code",
   "execution_count": null,
   "id": "c6a74a08",
   "metadata": {},
   "outputs": [],
   "source": [
    "int(10.123)"
   ]
  },
  {
   "cell_type": "code",
   "execution_count": null,
   "id": "27d3b670",
   "metadata": {},
   "outputs": [],
   "source": [
    "int(10+20j)"
   ]
  },
  {
   "cell_type": "code",
   "execution_count": null,
   "id": "45ff52fb",
   "metadata": {},
   "outputs": [],
   "source": [
    "int(True)"
   ]
  },
  {
   "cell_type": "code",
   "execution_count": null,
   "id": "e13ba321",
   "metadata": {},
   "outputs": [],
   "source": [
    "int(False)"
   ]
  },
  {
   "cell_type": "code",
   "execution_count": null,
   "id": "76ee4eea",
   "metadata": {},
   "outputs": [],
   "source": [
    "int('10')"
   ]
  },
  {
   "cell_type": "code",
   "execution_count": null,
   "id": "2a7525eb",
   "metadata": {},
   "outputs": [],
   "source": [
    "int('ten')"
   ]
  },
  {
   "cell_type": "markdown",
   "id": "f4e4b54e",
   "metadata": {},
   "source": [
    "# float() to other data types\n",
    "float(): -- convert from any type to float except complex"
   ]
  },
  {
   "cell_type": "code",
   "execution_count": null,
   "id": "f63a65f0",
   "metadata": {},
   "outputs": [],
   "source": [
    "float(10)"
   ]
  },
  {
   "cell_type": "code",
   "execution_count": null,
   "id": "ddad5979",
   "metadata": {},
   "outputs": [],
   "source": [
    "float(10+20j)"
   ]
  },
  {
   "cell_type": "code",
   "execution_count": null,
   "id": "e8c365c6",
   "metadata": {},
   "outputs": [],
   "source": [
    "float(False)"
   ]
  },
  {
   "cell_type": "code",
   "execution_count": null,
   "id": "c8a1edb0",
   "metadata": {},
   "outputs": [],
   "source": [
    "float(True)"
   ]
  },
  {
   "cell_type": "code",
   "execution_count": null,
   "id": "8f8f180c",
   "metadata": {},
   "outputs": [],
   "source": [
    "float('10')"
   ]
  },
  {
   "cell_type": "markdown",
   "id": "1eeec71d",
   "metadata": {},
   "source": [
    "# complex to other types\n",
    "complex(): -- covert any other type to complex type\n",
    "--- this only for 1 argument ------\n"
   ]
  },
  {
   "cell_type": "code",
   "execution_count": null,
   "id": "7069eb97",
   "metadata": {},
   "outputs": [],
   "source": [
    "complex(10)"
   ]
  },
  {
   "cell_type": "code",
   "execution_count": null,
   "id": "da4955c0",
   "metadata": {},
   "outputs": [],
   "source": [
    "complex(10.5)"
   ]
  },
  {
   "cell_type": "code",
   "execution_count": null,
   "id": "46efabf8",
   "metadata": {},
   "outputs": [],
   "source": [
    "complex(True)"
   ]
  },
  {
   "cell_type": "code",
   "execution_count": null,
   "id": "75a54893",
   "metadata": {},
   "outputs": [],
   "source": [
    "complex(False)"
   ]
  },
  {
   "cell_type": "code",
   "execution_count": null,
   "id": "58c28011",
   "metadata": {},
   "outputs": [],
   "source": [
    "complex('10')"
   ]
  },
  {
   "cell_type": "code",
   "execution_count": null,
   "id": "0fda47b4",
   "metadata": {},
   "outputs": [],
   "source": [
    "#with to arguments\n",
    "complex(10,20)"
   ]
  },
  {
   "cell_type": "code",
   "execution_count": null,
   "id": "270cf8c0",
   "metadata": {},
   "outputs": [],
   "source": [
    "complex(10,20.5)"
   ]
  },
  {
   "cell_type": "code",
   "execution_count": null,
   "id": "194700b5",
   "metadata": {},
   "outputs": [],
   "source": [
    "complex('10')"
   ]
  },
  {
   "cell_type": "markdown",
   "id": "b495da55",
   "metadata": {},
   "source": [
    "# bool to other conversions\n",
    "Bool()  - (0 means false // 1 means non zero)\n"
   ]
  },
  {
   "cell_type": "code",
   "execution_count": null,
   "id": "70ddf46e",
   "metadata": {},
   "outputs": [],
   "source": [
    "bool(0)"
   ]
  },
  {
   "cell_type": "code",
   "execution_count": null,
   "id": "4d938200",
   "metadata": {},
   "outputs": [],
   "source": [
    "bool(-10)"
   ]
  },
  {
   "cell_type": "code",
   "execution_count": null,
   "id": "3d878f4c",
   "metadata": {},
   "outputs": [],
   "source": [
    "bool(0.0)"
   ]
  },
  {
   "cell_type": "code",
   "execution_count": null,
   "id": "37dd24d0",
   "metadata": {},
   "outputs": [],
   "source": [
    "bool(10+20j)"
   ]
  },
  {
   "cell_type": "code",
   "execution_count": null,
   "id": "6805f3fa",
   "metadata": {},
   "outputs": [],
   "source": [
    "bool(0+10j)"
   ]
  },
  {
   "cell_type": "code",
   "execution_count": null,
   "id": "886523a8",
   "metadata": {},
   "outputs": [],
   "source": [
    "bool(\" \")"
   ]
  },
  {
   "cell_type": "code",
   "execution_count": null,
   "id": "7cb50b1a",
   "metadata": {},
   "outputs": [],
   "source": [
    "bool('abc')"
   ]
  },
  {
   "cell_type": "code",
   "execution_count": null,
   "id": "b00f16a8",
   "metadata": {},
   "outputs": [],
   "source": [
    "bool(' ')"
   ]
  },
  {
   "cell_type": "markdown",
   "id": "531a377b",
   "metadata": {},
   "source": [
    "# str to other types\n",
    "# str(): --- any type is possible in string "
   ]
  },
  {
   "cell_type": "code",
   "execution_count": null,
   "id": "88c3dff7",
   "metadata": {},
   "outputs": [],
   "source": [
    "str(10)"
   ]
  },
  {
   "cell_type": "code",
   "execution_count": null,
   "id": "ffe5de58",
   "metadata": {},
   "outputs": [],
   "source": [
    "str('10.5')"
   ]
  },
  {
   "cell_type": "code",
   "execution_count": null,
   "id": "cbf36469",
   "metadata": {},
   "outputs": [],
   "source": [
    "str('True')"
   ]
  },
  {
   "cell_type": "code",
   "execution_count": null,
   "id": "2eef8258",
   "metadata": {},
   "outputs": [],
   "source": [
    "str(10+20j)"
   ]
  },
  {
   "cell_type": "markdown",
   "id": "aad3a685",
   "metadata": {},
   "source": [
    "Fundamental Datatypes are which we covered so far & also we saw how to work on the type casting from one data type to other -\n",
    "We cannot convert our complex data types to int and float\n",
    "\n",
    "int() float() complex() bool() str()"
   ]
  },
  {
   "cell_type": "markdown",
   "id": "3148a0f1",
   "metadata": {},
   "source": [
    "# Fundamental datatypes vs Immutability --\n",
    "All fundamental datatypes are immutable. what is immutable - once we crate the object we are not allow to perform any changes in that object . we can say that (non-changeable behaviour)\n",
    "why immutability concept is required -- if you look at below exampl - how many object we created only 1 object which is 10 but how many reference we assinged -- 3 reference indicates to 1 object\n",
    "bigest advantage of this approch is memory utilization & performance is also improved (pvm do not want to wsat memory)\n",
    "you can create object with different name, but you cannot create object with same name"
   ]
  },
  {
   "cell_type": "code",
   "execution_count": null,
   "id": "101ef16d",
   "metadata": {},
   "outputs": [],
   "source": [
    "x2=10\n",
    "y2=10\n",
    "z2=10\n",
    "print(id(x2))\n",
    "print(id(y2))\n",
    "print(id(z2))"
   ]
  },
  {
   "cell_type": "markdown",
   "id": "6be7f119",
   "metadata": {},
   "source": [
    "# Mutable -- Changeable-- once you create an object\n",
    "Immutable -- Non-changeable\n",
    "Fundamental data types are IMMUTABLE but (LIST is mutable)\n",
    "Everything in python is an object\n",
    "**This concept reusing same object such type of concept is define following ranges - 1> int ----> 0 to 256 2> bool ---> Always 3> str ----> Always 4> float & complex ----> Can not performe the reusable concept"
   ]
  },
  {
   "cell_type": "code",
   "execution_count": null,
   "id": "3a84ffec",
   "metadata": {},
   "outputs": [],
   "source": [
    "x=10\n",
    "y=20\n",
    "print(id(x))\n",
    "print(id(y))"
   ]
  },
  {
   "cell_type": "code",
   "execution_count": null,
   "id": "c70bf468",
   "metadata": {},
   "outputs": [],
   "source": [
    "# is operator"
   ]
  },
  {
   "cell_type": "code",
   "execution_count": null,
   "id": "9a1c509b",
   "metadata": {},
   "outputs": [],
   "source": [
    "x=True\n",
    "y=True\n",
    "z=False\n",
    "x is y\n",
    "y is z\n",
    "z is x\n",
    "z is y"
   ]
  }
 ],
 "metadata": {
  "kernelspec": {
   "display_name": "Python 3 (ipykernel)",
   "language": "python",
   "name": "python3"
  },
  "language_info": {
   "codemirror_mode": {
    "name": "ipython",
    "version": 3
   },
   "file_extension": ".py",
   "mimetype": "text/x-python",
   "name": "python",
   "nbconvert_exporter": "python",
   "pygments_lexer": "ipython3",
   "version": "3.10.9"
  }
 },
 "nbformat": 4,
 "nbformat_minor": 5
}
